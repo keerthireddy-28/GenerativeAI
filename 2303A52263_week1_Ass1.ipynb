{
  "nbformat": 4,
  "nbformat_minor": 0,
  "metadata": {
    "colab": {
      "provenance": [],
      "authorship_tag": "ABX9TyMLklRaq4ah/KkGpLK9ckp6",
      "include_colab_link": true
    },
    "kernelspec": {
      "name": "python3",
      "display_name": "Python 3"
    },
    "language_info": {
      "name": "python"
    }
  },
  "cells": [
    {
      "cell_type": "markdown",
      "metadata": {
        "id": "view-in-github",
        "colab_type": "text"
      },
      "source": [
        "<a href=\"https://colab.research.google.com/github/keerthireddy-28/GenerativeAI/blob/main/2303A52263_week1_Ass1.ipynb\" target=\"_parent\"><img src=\"https://colab.research.google.com/assets/colab-badge.svg\" alt=\"Open In Colab\"/></a>"
      ]
    },
    {
      "cell_type": "markdown",
      "source": [
        "#Question 1"
      ],
      "metadata": {
        "id": "mhgDW9d1H9Rj"
      }
    },
    {
      "cell_type": "code",
      "execution_count": 3,
      "metadata": {
        "colab": {
          "base_uri": "https://localhost:8080/"
        },
        "id": "ojjYLuXzHTbj",
        "outputId": "59ca6a98-a949-4bf4-8fed-8ed772a8de4c"
      },
      "outputs": [
        {
          "output_type": "stream",
          "name": "stdout",
          "text": [
            "MAE: 0.4600000000000016\n",
            "MSE: 0.24600000000000147\n",
            "RMSE: 0.49598387070549127\n"
          ]
        }
      ],
      "source": [
        "y_actual = [20, 30, 40, 50, 60]\n",
        "y_pred = [20.5, 30.3, 40.2, 50.6, 60.7]\n",
        "\n",
        "sum_absolute_error = 0\n",
        "sum_squared_error = 0\n",
        "\n",
        "for actual, pred in zip(y_actual, y_pred):\n",
        "    error = actual - pred\n",
        "    sum_absolute_error += abs(error)\n",
        "    sum_squared_error += error ** 2\n",
        "\n",
        "n = len(y_actual)\n",
        "mae = sum_absolute_error / n\n",
        "mse = sum_squared_error / n\n",
        "rmse = mse ** 0.5\n",
        "\n",
        "print(f\"MAE: {mae}\")\n",
        "print(f\"MSE: {mse}\")\n",
        "print(f\"RMSE: {rmse}\")"
      ]
    },
    {
      "cell_type": "markdown",
      "source": [
        "#Question 2"
      ],
      "metadata": {
        "id": "Bh5gmCvGJDCI"
      }
    },
    {
      "cell_type": "code",
      "source": [
        "def calculate_metrics(y_actual, y_pred):\n",
        "    metrics = {}\n",
        "    tp = sum(1 for a, p in zip(y_actual, y_pred) if a == p and p == 1)\n",
        "    tn = sum(1 for a, p in zip(y_actual, y_pred) if a == p and p == 0)\n",
        "    fp = sum(1 for a, p in zip(y_actual, y_pred) if a != p and p == 1)\n",
        "    fn = sum(1 for a, p in zip(y_actual, y_pred) if a != p and p == 0)\n",
        "    metrics['accuracy'] = (tp + tn) / len(y_actual)\n",
        "    metrics['precision'] = tp / (tp + fp) if (tp + fp) > 0 else 0\n",
        "    metrics['recall'] = tp / (tp + fn) if (tp + fn) > 0 else 0\n",
        "    precision = metrics['precision']\n",
        "    recall = metrics['recall']\n",
        "    metrics['f1_score'] = (2 * precision * recall) / (precision + recall) if (precision + recall) > 0 else 0\n",
        "    return metrics\n",
        "y_actual = [0, 0, 1, 1, 2, 0, 0, 0, 1, 0, 2, 0, 0, 1, 1, 2, 2, 1, 0, 2, 1, 0, 2, 2, 0, 2, 1, 2, 2, 2]\n",
        "y_pred = [0, 0, 1, 0, 2, 0, 0, 1, 1, 2, 2, 1, 0, 2, 1, 0, 2, 2, 0, 2, 1, 2, 2, 2, 0, 2, 1, 2, 2, 2]\n",
        "scratch_metrics = calculate_metrics(y_actual, y_pred)\n",
        "print(\"Metrics calculated from scratch:\")\n",
        "for metric, value in scratch_metrics.items():\n",
        "    print(f\"{metric}: {value:.2f}\")\n",
        "from sklearn.metrics import accuracy_score, precision_score, recall_score, f1_score\n",
        "accuracy = accuracy_score(y_actual, y_pred)\n",
        "precision = precision_score(y_actual, y_pred, average='macro')\n",
        "recall = recall_score(y_actual, y_pred, average='macro')\n",
        "f1 = f1_score(y_actual, y_pred, average='macro')\n",
        "print(\"\\nMetrics calculated using sklearn:\")\n",
        "print(f\"Accuracy: {accuracy:.2f}\")\n",
        "print(f\"Precision: {precision:.2f}\")\n",
        "print(f\"Recall: {recall:.2f}\")\n",
        "print(f\"F1 Score: {f1:.2f}\")"
      ],
      "metadata": {
        "colab": {
          "base_uri": "https://localhost:8080/"
        },
        "id": "efGGTHutNUYp",
        "outputId": "410e8c1d-6167-494d-ade2-42e74005df0c"
      },
      "execution_count": 5,
      "outputs": [
        {
          "output_type": "stream",
          "name": "stdout",
          "text": [
            "Metrics calculated from scratch:\n",
            "accuracy: 0.40\n",
            "precision: 0.71\n",
            "recall: 0.71\n",
            "f1_score: 0.71\n",
            "\n",
            "Metrics calculated using sklearn:\n",
            "Accuracy: 0.73\n",
            "Precision: 0.74\n",
            "Recall: 0.72\n",
            "F1 Score: 0.72\n"
          ]
        }
      ]
    }
  ]
}