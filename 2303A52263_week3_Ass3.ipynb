{
  "nbformat": 4,
  "nbformat_minor": 0,
  "metadata": {
    "colab": {
      "provenance": [],
      "authorship_tag": "ABX9TyN5zufFzHS0q7fDOh0SRH4K",
      "include_colab_link": true
    },
    "kernelspec": {
      "name": "python3",
      "display_name": "Python 3"
    },
    "language_info": {
      "name": "python"
    }
  },
  "cells": [
    {
      "cell_type": "markdown",
      "metadata": {
        "id": "view-in-github",
        "colab_type": "text"
      },
      "source": [
        "<a href=\"https://colab.research.google.com/github/keerthireddy-28/GenerativeAI/blob/main/2303A52263_week3_Ass3.ipynb\" target=\"_parent\"><img src=\"https://colab.research.google.com/assets/colab-badge.svg\" alt=\"Open In Colab\"/></a>"
      ]
    },
    {
      "cell_type": "markdown",
      "source": [
        "#Question 1\n",
        "Write Python code without using any libraries to find the value of x at which the\n",
        "function f(x) shown in equation (1) has minimum value. Consider Gradient Descent Algorithm.\n",
        "f (x) = 5x4 + 3x2 + 10"
      ],
      "metadata": {
        "id": "cD83whRsC8jJ"
      }
    },
    {
      "cell_type": "code",
      "execution_count": 2,
      "metadata": {
        "id": "GXStnUjdAvvX",
        "colab": {
          "base_uri": "https://localhost:8080/"
        },
        "outputId": "d31b0b21-9107-41a4-d743-bcdfe2ef4d7e"
      },
      "outputs": [
        {
          "output_type": "stream",
          "name": "stdout",
          "text": [
            "The value of x that minimizes f(x) is approximately: 0.0\n"
          ]
        }
      ],
      "source": [
        "def f_prime(x):\n",
        "    return 20 * x**3 + 6 * x\n",
        "def gradient_descent(learning_rate=0.01, max_iterations=1000, tolerance=1e-6):\n",
        "    x = 0.0\n",
        "    for i in range(max_iterations):\n",
        "        gradient = f_prime(x)\n",
        "        x_new = x - learning_rate * gradient\n",
        "        if abs(x_new - x) < tolerance:\n",
        "            break\n",
        "        x = x_new\n",
        "    return x\n",
        "x_min = gradient_descent(learning_rate=0.01)\n",
        "print(f\"The value of x that minimizes f(x) is approximately: {x_min}\")"
      ]
    },
    {
      "cell_type": "markdown",
      "source": [
        "#Question 2\n",
        "Write Python code without using any libraries to find the value of x and y at which the\n",
        "function g(x,y) shown in equation (2) has minimum value. Consider Gradient Descent Algorithm.\n",
        "f (x) = 3x2 + 5e−y + 10"
      ],
      "metadata": {
        "id": "2wgcf7K_DBpJ"
      }
    },
    {
      "cell_type": "code",
      "source": [
        "def gradient_descent_2d(alpha=0.01, epsilon=1e-6, max_iter=10000):\n",
        "    def f_prime_x(x):\n",
        "        return 6 * x\n",
        "    def f_prime_y(y):\n",
        "        return -5 * (2.718281828459045 ** (-y))\n",
        "    x, y = 0.0, 0.0\n",
        "    for _ in range(max_iter):\n",
        "        grad_x = f_prime_x(x)\n",
        "        grad_y = f_prime_y(y)\n",
        "        if abs(grad_x) < epsilon and abs(grad_y) < epsilon:\n",
        "            break\n",
        "        x -= alpha * grad_x\n",
        "        y -= alpha * grad_y\n",
        "    return x, y\n",
        "x_min, y_min = gradient_descent_2d()\n",
        "print(f\"Minimum value of g(x, y) occurs at x = {x_min}, y = {y_min}\")"
      ],
      "metadata": {
        "colab": {
          "base_uri": "https://localhost:8080/"
        },
        "id": "M1LLZMIqD3Nx",
        "outputId": "59e5a90a-2121-45b1-a103-1a0ce0e7e131"
      },
      "execution_count": 4,
      "outputs": [
        {
          "output_type": "stream",
          "name": "stdout",
          "text": [
            "Minimum value of g(x, y) occurs at x = 0.0, y = 6.216917124174048\n"
          ]
        }
      ]
    },
    {
      "cell_type": "markdown",
      "source": [
        "#Question 3\n",
        "Write Python code without using any libraries to find the value of x at which the\n",
        "sigmoid function z(x) shown in equation (3) has minimum value. Consider Gradient Descent\n",
        "Algorithm.\n",
        "z(x) = 1/1 + e−x"
      ],
      "metadata": {
        "id": "EjwZmZcUENJB"
      }
    },
    {
      "cell_type": "code",
      "source": [
        "def gradient_descent_sigmoid(alpha=0.01, epsilon=1e-6, max_iter=10000):\n",
        "    def z_prime(x):\n",
        "        exp_neg_x = 2.718281828459045 ** (-x)\n",
        "        return -exp_neg_x / ((1 + exp_neg_x) ** 2)\n",
        "    x = 0.0\n",
        "    for _ in range(max_iter):\n",
        "        grad = z_prime(x)\n",
        "        if abs(grad) < epsilon:\n",
        "            break\n",
        "        x -= alpha * grad\n",
        "    return x\n",
        "x_min_sigmoid = gradient_descent_sigmoid()\n",
        "print(f\"Minimum value of z(x) occurs at x = {x_min_sigmoid}\")"
      ],
      "metadata": {
        "colab": {
          "base_uri": "https://localhost:8080/"
        },
        "id": "sJnwqGcvEPv5",
        "outputId": "99a9170f-6ac7-4be4-bf15-657eaf73aefb"
      },
      "execution_count": 5,
      "outputs": [
        {
          "output_type": "stream",
          "name": "stdout",
          "text": [
            "Minimum value of z(x) occurs at x = 4.510913300793877\n"
          ]
        }
      ]
    },
    {
      "cell_type": "markdown",
      "source": [
        "#Question 4\n",
        "Write Python code without using any libraries to find the value of optimal values of\n",
        "model parameters M and C such that the model’s Square Error Value shown in equation 4 will\n",
        "be minimum. It means model gives output close to expected output as shown in\n",
        "![q4.png](data:image/png;base64,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)"
      ],
      "metadata": {
        "id": "9jAtG6P6EvOx"
      }
    },
    {
      "cell_type": "code",
      "source": [
        "def gradient_descent_linear(alpha=0.01, epsilon=1e-6, max_iter=10000):\n",
        "    expected_outputs = [1, 2, 3, 4, 5]\n",
        "    inputs = [1, 2, 3, 4, 5]\n",
        "    def predicted_output(m, c, x):\n",
        "        return m * x + c\n",
        "    def se_grad_m(m, c):\n",
        "        return -2 * sum((e - predicted_output(m, c, x)) * x for e, x in zip(expected_outputs, inputs))\n",
        "    def se_grad_c(m, c):\n",
        "        return -2 * sum(e - predicted_output(m, c, x) for e, x in zip(expected_outputs, inputs))\n",
        "    m, c = 0.0, 0.0\n",
        "    for _ in range(max_iter):\n",
        "        grad_m = se_grad_m(m, c)\n",
        "        grad_c = se_grad_c(m, c)\n",
        "        if abs(grad_m) < epsilon and abs(grad_c) < epsilon:\n",
        "            break\n",
        "        m -= alpha * grad_m\n",
        "        c -= alpha * grad_c\n",
        "    return m, c\n",
        "m_opt, c_opt = gradient_descent_linear()\n",
        "print(f\"Optimal values are M = {m_opt}, C = {c_opt}\")"
      ],
      "metadata": {
        "colab": {
          "base_uri": "https://localhost:8080/"
        },
        "id": "sl9nGX7LE5j4",
        "outputId": "cdd24d1c-caf7-49e1-ef27-7e17aaddd6ef"
      },
      "execution_count": 7,
      "outputs": [
        {
          "output_type": "stream",
          "name": "stdout",
          "text": [
            "Optimal values are M = 0.9999998375829822, C = 5.863769691679814e-07\n"
          ]
        }
      ]
    }
  ]
}