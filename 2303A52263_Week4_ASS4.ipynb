{
  "nbformat": 4,
  "nbformat_minor": 0,
  "metadata": {
    "colab": {
      "provenance": [],
      "authorship_tag": "ABX9TyMgix0OIHw0m+uZ/qNEQkOv",
      "include_colab_link": true
    },
    "kernelspec": {
      "name": "python3",
      "display_name": "Python 3"
    },
    "language_info": {
      "name": "python"
    }
  },
  "cells": [
    {
      "cell_type": "markdown",
      "metadata": {
        "id": "view-in-github",
        "colab_type": "text"
      },
      "source": [
        "<a href=\"https://colab.research.google.com/github/keerthireddy-28/GenerativeAI/blob/main/2303A52263_Week4_ASS4.ipynb\" target=\"_parent\"><img src=\"https://colab.research.google.com/assets/colab-badge.svg\" alt=\"Open In Colab\"/></a>"
      ]
    },
    {
      "cell_type": "markdown",
      "source": [
        "#Question 1\n",
        "1.Design a simple ANN architecture with one input and one output layer (no hidden\n",
        "layer). Assume a linear activation function in the output layer.\n",
        "• Write Python code for a backpropagation algorithm with gradient descent optimization to\n",
        "update weights and bias parameters of the ANN model with training data shown in Table\n",
        "1.\n",
        "• Calculate the mean square error with training and testing data shown in Table 2.\n",
        "• Write Python code that reads the input data [x1, x2, and x3] from the user. Predict the\n",
        "output with deployed ANN model"
      ],
      "metadata": {
        "id": "IvPwDjuhIYtz"
      }
    },
    {
      "cell_type": "code",
      "execution_count": 5,
      "metadata": {
        "colab": {
          "base_uri": "https://localhost:8080/"
        },
        "id": "-zkdMVC1FGxp",
        "outputId": "db81f4f1-55b0-419a-bcae-1a5923b753e1"
      },
      "outputs": [
        {
          "output_type": "stream",
          "name": "stdout",
          "text": [
            "Epoch 0, MSE: 0.9411720943485542\n",
            "Epoch 100, MSE: 0.002173483015240552\n",
            "Epoch 200, MSE: 0.0005725959556930677\n",
            "Epoch 300, MSE: 0.0001681578351273675\n",
            "Epoch 400, MSE: 6.407042114193578e-05\n",
            "Epoch 500, MSE: 3.6326407797576365e-05\n",
            "Epoch 600, MSE: 2.8236056699842828e-05\n",
            "Epoch 700, MSE: 2.528527067359479e-05\n",
            "Epoch 800, MSE: 2.3717280107994427e-05\n",
            "Epoch 900, MSE: 2.254922758096077e-05\n",
            "Trained weights: [-0.00108704  0.29326472  0.29673247]\n",
            "Trained bias: [-0.01057902]\n"
          ]
        }
      ],
      "source": [
        "import numpy as np\n",
        "X_train = np.array([[0.1, 0.2, 0.3],\n",
        "                    [0.2, 0.3, 0.4],\n",
        "                    [0.3, 0.4, 0.5],\n",
        "                    [0.5, 0.6, 0.7],\n",
        "                    [0.1, 0.3, 0.5],\n",
        "                    [0.2, 0.4, 0.6],\n",
        "                    [0.3, 0.5, 0.7],\n",
        "                    [0.4, 0.6, 0.8],\n",
        "                    [0.5, 0.7, 0.1]])\n",
        "y_train = np.array([0.14, 0.20, 0.26, 0.38, 0.22, 0.28, 0.34, 0.40, 0.22])\n",
        "weights = np.random.rand(3)\n",
        "bias = np.random.rand(1)\n",
        "learning_rate = 0.1\n",
        "epochs = 1000\n",
        "for epoch in range(epochs):\n",
        "    y_pred = np.dot(X_train, weights) + bias\n",
        "    error = y_pred - y_train\n",
        "    mse = np.mean(error**2)\n",
        "    gradient_w = (2 / len(X_train)) * np.dot(X_train.T, error)\n",
        "    gradient_b = (2 / len(X_train)) * np.sum(error)\n",
        "    weights -= learning_rate * gradient_w\n",
        "    bias -= learning_rate * gradient_b\n",
        "    if epoch % 100 == 0:\n",
        "        print(f\"Epoch {epoch}, MSE: {mse}\")\n",
        "print(\"Trained weights:\", weights)\n",
        "print(\"Trained bias:\", bias)\n"
      ]
    },
    {
      "cell_type": "code",
      "source": [
        "def predict(x1, x2, x3):\n",
        "    input_data = np.array([x1, x2, x3])\n",
        "    prediction = np.dot(input_data, weights) + bias\n",
        "    return prediction\n",
        "x1 = float(input(\"Enter value for x1: \"))\n",
        "x2 = float(input(\"Enter value for x2: \"))\n",
        "x3 = float(input(\"Enter value for x3: \"))\n",
        "predicted_y = predict(x1, x2, x3)\n",
        "print(f\"The predicted output y is: {predicted_y}\")"
      ],
      "metadata": {
        "colab": {
          "base_uri": "https://localhost:8080/"
        },
        "id": "uGHSZFNbH2Iz",
        "outputId": "3d43b79f-d87a-4d38-85b9-6bdbe0555ebd"
      },
      "execution_count": 7,
      "outputs": [
        {
          "output_type": "stream",
          "name": "stdout",
          "text": [
            "Enter value for x1: 0.2\n",
            "Enter value for x2: 0.3\n",
            "Enter value for x3: 0.4\n",
            "The predicted output y is: [0.19587597]\n"
          ]
        }
      ]
    },
    {
      "cell_type": "markdown",
      "source": [
        "#Question 2\n",
        "2.Design a simple ANN architecture with one input and one output layer (no hidden\n",
        "layer). Assume a sigmoid activation function shown in the equation 1 in the output layer.\n",
        "f (x) = 1\n",
        "1 + e−x (1)\n",
        "• Write Python code for a backpropagation algorithm with gradient descent optimization to\n",
        "update weights and bias parameters of the ANN model with training data shown in Table"
      ],
      "metadata": {
        "id": "8lEWcPZMI5oJ"
      }
    },
    {
      "cell_type": "code",
      "source": [
        "import numpy as np\n",
        "def sigmoid(x):\n",
        "    return 1 / (1 + np.exp(-x))\n",
        "def sigmoid_derivative(x):\n",
        "    return x * (1 - x)\n",
        "X_train = np.array([[0.1, 0.2, 0.3],\n",
        "                    [0.2, 0.3, 0.4],\n",
        "                    [0.3, 0.4, 0.5],\n",
        "                    [0.5, 0.6, 0.7],\n",
        "                    [0.1, 0.3, 0.5],\n",
        "                    [0.2, 0.4, 0.6],\n",
        "                    [0.3, 0.5, 0.7],\n",
        "                    [0.4, 0.6, 0.8],\n",
        "                    [0.5, 0.7, 0.1]])\n",
        "y_train = np.array([0.5349, 0.5498, 0.5646, 0.5939, 0.5548, 0.5695, 0.5842, 0.5987, 0.5548])\n",
        "weights = np.random.rand(3)\n",
        "bias = np.random.rand(1)\n",
        "learning_rate = 0.1\n",
        "epochs = 10000\n",
        "for epoch in range(epochs):\n",
        "    z = np.dot(X_train, weights) + bias\n",
        "    y_pred = sigmoid(z)\n",
        "    error = y_pred - y_train\n",
        "    mse = np.mean(error**2)\n",
        "    d_loss_d_pred = 2 * error\n",
        "    d_pred_d_z = sigmoid_derivative(y_pred)\n",
        "    d_loss_d_z = d_loss_d_pred * d_pred_d_z\n",
        "    gradient_w = np.dot(X_train.T, d_loss_d_z) / len(X_train)\n",
        "    gradient_b = np.sum(d_loss_d_z) / len(X_train)\n",
        "    weights -= learning_rate * gradient_w\n",
        "    bias -= learning_rate * gradient_b\n",
        "    if epoch % 1000 == 0:\n",
        "        print(f\"Epoch {epoch}, MSE: {mse}\")\n",
        "print(\"Trained weights:\", weights)\n",
        "print(\"Trained bias:\", bias)\n"
      ],
      "metadata": {
        "colab": {
          "base_uri": "https://localhost:8080/"
        },
        "id": "81fg-n1RI-up",
        "outputId": "0b272ab9-cce7-4058-8a75-99e96c8d9fe1"
      },
      "execution_count": 11,
      "outputs": [
        {
          "output_type": "stream",
          "name": "stdout",
          "text": [
            "Epoch 0, MSE: 0.03345503962368232\n",
            "Epoch 1000, MSE: 0.00010226568918168123\n",
            "Epoch 2000, MSE: 6.072026881037346e-05\n",
            "Epoch 3000, MSE: 4.2363120633902974e-05\n",
            "Epoch 4000, MSE: 3.399906718605599e-05\n",
            "Epoch 5000, MSE: 2.995325767570415e-05\n",
            "Epoch 6000, MSE: 2.7786107620029812e-05\n",
            "Epoch 7000, MSE: 2.644594086982067e-05\n",
            "Epoch 8000, MSE: 2.5477327680515904e-05\n",
            "Epoch 9000, MSE: 2.4681909850936352e-05\n",
            "Trained weights: [ 0.53506937 -0.20173171  0.30826393]\n",
            "Trained bias: [0.04881077]\n"
          ]
        }
      ]
    },
    {
      "cell_type": "code",
      "source": [
        "X_test = np.array([[0.6, 0.7, 0.8],\n",
        "                   [0.7, 0.8, 0.9]])\n",
        "y_test = np.array([0.6083, 0.6225])\n",
        "y_test_pred = sigmoid(np.dot(X_test, weights) + bias)\n",
        "mse_test = np.mean((y_test_pred - y_test) ** 2)\n",
        "print(f\"Test MSE: {mse_test}\")\n"
      ],
      "metadata": {
        "colab": {
          "base_uri": "https://localhost:8080/"
        },
        "id": "6wEEEDEDJvyS",
        "outputId": "6fc098a3-cd40-4cf6-f410-06b9e6441601"
      },
      "execution_count": 12,
      "outputs": [
        {
          "output_type": "stream",
          "name": "stdout",
          "text": [
            "Test MSE: 7.675544545188844e-05\n"
          ]
        }
      ]
    },
    {
      "cell_type": "code",
      "source": [
        "def predict(x1, x2, x3):\n",
        "    input_data = np.array([x1, x2, x3])\n",
        "    z = np.dot(input_data, weights) + bias\n",
        "    prediction = sigmoid(z)\n",
        "    return prediction\n",
        "x1 = float(input(\"Enter value for x1: \"))\n",
        "x2 = float(input(\"Enter value for x2: \"))\n",
        "x3 = float(input(\"Enter value for x3: \"))\n",
        "predicted_y = predict(x1, x2, x3)\n",
        "print(f\"The predicted output y is: {predicted_y}\")"
      ],
      "metadata": {
        "colab": {
          "base_uri": "https://localhost:8080/"
        },
        "id": "6SNID9fVJ6Zi",
        "outputId": "5ad73eff-968b-4998-c029-589af54db604"
      },
      "execution_count": 13,
      "outputs": [
        {
          "output_type": "stream",
          "name": "stdout",
          "text": [
            "Enter value for x1: 0.1\n",
            "Enter value for x2: 0.2\n",
            "Enter value for x3: 0.3\n",
            "The predicted output y is: [0.53853606]\n"
          ]
        }
      ]
    }
  ]
}