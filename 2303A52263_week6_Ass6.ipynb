{
  "nbformat": 4,
  "nbformat_minor": 0,
  "metadata": {
    "colab": {
      "provenance": [],
      "authorship_tag": "ABX9TyP2Cijo8dBldpakNLDU8cyt",
      "include_colab_link": true
    },
    "kernelspec": {
      "name": "python3",
      "display_name": "Python 3"
    },
    "language_info": {
      "name": "python"
    }
  },
  "cells": [
    {
      "cell_type": "markdown",
      "metadata": {
        "id": "view-in-github",
        "colab_type": "text"
      },
      "source": [
        "<a href=\"https://colab.research.google.com/github/keerthireddy-28/GenerativeAI/blob/main/2303A52263_week6_Ass6.ipynb\" target=\"_parent\"><img src=\"https://colab.research.google.com/assets/colab-badge.svg\" alt=\"Open In Colab\"/></a>"
      ]
    },
    {
      "cell_type": "markdown",
      "source": [
        "1. (1 ponto) Design a multilayer ANN architecture according to the requirements shown below.\n",
        "Train, test, save (.h5) and deploy the model to predict the housing price using Keras deep\n",
        "learning library\n",
        "2. (1 ponto) Calculate training and testing error metrics\n",
        "3. (1 ponto) Build the application by loading the saved ANN model.\n",
        "Tabela 1: ANN Architecture\n",
        "Layer Neurons Activation Function\n",
        "\n",
        "Hidden Layer - 1 15 tanh\n",
        "\n",
        "Hidden Layer - 2 20 tanh\n",
        "\n",
        "Hidden Layer - 3 15 tanh\n",
        "\n",
        "Tabela 2: Training Parameters\n",
        "loss function epochs batch size error metric Optimizer\n",
        "Mean Square Error 100 16 Mean Square Error SGD"
      ],
      "metadata": {
        "id": "y1g2odYFeCmA"
      }
    },
    {
      "cell_type": "code",
      "source": [
        "import pandas as pd\n",
        "from sklearn.model_selection import train_test_split\n",
        "from sklearn.preprocessing import StandardScaler\n",
        "import numpy as np\n",
        "from sklearn.preprocessing import OneHotEncoder\n",
        "\n",
        "url = '/content/Housing (1).csv'\n",
        "df = pd.read_csv(url)\n",
        "\n",
        "X = df.drop('price', axis=1)\n",
        "y = df['price']\n",
        "\n",
        "X_train, X_test, y_train, y_test = train_test_split(X, y, test_size=0.2, random_state=42)\n",
        "\n",
        "categorical_features = X_train.select_dtypes(include=['object']).columns\n",
        "\n",
        "encoder = OneHotEncoder(sparse_output=False, handle_unknown='ignore')\n",
        "encoded_features_train = encoder.fit_transform(X_train[categorical_features])\n",
        "encoded_features_test = encoder.transform(X_test[categorical_features])\n",
        "\n",
        "encoded_df_train = pd.DataFrame(encoded_features_train, columns=encoder.get_feature_names_out(categorical_features), index=X_train.index)\n",
        "encoded_df_test = pd.DataFrame(encoded_features_test, columns=encoder.get_feature_names_out(categorical_features), index=X_test.index)\n",
        "\n",
        "X_train = X_train.drop(categorical_features, axis=1)\n",
        "X_test = X_test.drop(categorical_features, axis=1)\n",
        "X_train = pd.concat([X_train, encoded_df_train], axis=1)\n",
        "X_test = pd.concat([X_test, encoded_df_test], axis=1)\n",
        "\n",
        "scaler = StandardScaler()\n",
        "X_train = scaler.fit_transform(X_train)\n",
        "X_test = scaler.transform(X_test)"
      ],
      "metadata": {
        "id": "hHRke1mESaZB"
      },
      "execution_count": 24,
      "outputs": []
    },
    {
      "cell_type": "code",
      "source": [
        "from tensorflow.keras.models import Sequential\n",
        "from tensorflow.keras.layers import Dense\n",
        "from tensorflow.keras.optimizers import SGD\n",
        "from tensorflow.keras.metrics import MeanSquaredError\n",
        "\n",
        "model = Sequential()\n",
        "\n",
        "model.add(Dense(15, input_dim=X_train.shape[1], activation='tanh'))\n",
        "\n",
        "model.add(Dense(20, activation='tanh'))\n",
        "\n",
        "model.add(Dense(15, activation='tanh'))\n",
        "\n",
        "model.add(Dense(1))\n",
        "\n",
        "model.compile(loss='mean_squared_error',\n",
        "              optimizer=SGD(),\n",
        "              metrics=[MeanSquaredError()])\n"
      ],
      "metadata": {
        "colab": {
          "base_uri": "https://localhost:8080/"
        },
        "id": "XTTMX7_6bbDh",
        "outputId": "d748aa73-de2e-49af-ec8f-ae79eecb3fc5"
      },
      "execution_count": 25,
      "outputs": [
        {
          "output_type": "stream",
          "name": "stderr",
          "text": [
            "/usr/local/lib/python3.11/dist-packages/keras/src/layers/core/dense.py:87: UserWarning: Do not pass an `input_shape`/`input_dim` argument to a layer. When using Sequential models, prefer using an `Input(shape)` object as the first layer in the model instead.\n",
            "  super().__init__(activity_regularizer=activity_regularizer, **kwargs)\n"
          ]
        }
      ]
    },
    {
      "cell_type": "code",
      "source": [
        "# Train the model\n",
        "history = model.fit(X_train, y_train,\n",
        "                    epochs=100,\n",
        "                    batch_size=16,\n",
        "                    validation_data=(X_test, y_test))\n"
      ],
      "metadata": {
        "colab": {
          "base_uri": "https://localhost:8080/"
        },
        "id": "Izc25MqgbdYn",
        "outputId": "e811fc82-3ed4-431c-9bd2-4014c6a433bf"
      },
      "execution_count": 26,
      "outputs": [
        {
          "output_type": "stream",
          "name": "stdout",
          "text": [
            "Epoch 1/100\n",
            "\u001b[1m28/28\u001b[0m \u001b[32m━━━━━━━━━━━━━━━━━━━━\u001b[0m\u001b[37m\u001b[0m \u001b[1m1s\u001b[0m 11ms/step - loss: 9803192598528.0000 - mean_squared_error: 9803192598528.0000 - val_loss: 5234817499136.0000 - val_mean_squared_error: 5234817499136.0000\n",
            "Epoch 2/100\n",
            "\u001b[1m28/28\u001b[0m \u001b[32m━━━━━━━━━━━━━━━━━━━━\u001b[0m\u001b[37m\u001b[0m \u001b[1m0s\u001b[0m 5ms/step - loss: 2719831556096.0000 - mean_squared_error: 2719831556096.0000 - val_loss: 5284475437056.0000 - val_mean_squared_error: 5284475437056.0000\n",
            "Epoch 3/100\n",
            "\u001b[1m28/28\u001b[0m \u001b[32m━━━━━━━━━━━━━━━━━━━━\u001b[0m\u001b[37m\u001b[0m \u001b[1m0s\u001b[0m 4ms/step - loss: 3664485285888.0000 - mean_squared_error: 3664485285888.0000 - val_loss: 5283190407168.0000 - val_mean_squared_error: 5283190407168.0000\n",
            "Epoch 4/100\n",
            "\u001b[1m28/28\u001b[0m \u001b[32m━━━━━━━━━━━━━━━━━━━━\u001b[0m\u001b[37m\u001b[0m \u001b[1m0s\u001b[0m 5ms/step - loss: 3048083554304.0000 - mean_squared_error: 3048083554304.0000 - val_loss: 5385974972416.0000 - val_mean_squared_error: 5385974972416.0000\n",
            "Epoch 5/100\n",
            "\u001b[1m28/28\u001b[0m \u001b[32m━━━━━━━━━━━━━━━━━━━━\u001b[0m\u001b[37m\u001b[0m \u001b[1m0s\u001b[0m 4ms/step - loss: 3416314609664.0000 - mean_squared_error: 3416314609664.0000 - val_loss: 5998322384896.0000 - val_mean_squared_error: 5998322384896.0000\n",
            "Epoch 6/100\n",
            "\u001b[1m28/28\u001b[0m \u001b[32m━━━━━━━━━━━━━━━━━━━━\u001b[0m\u001b[37m\u001b[0m \u001b[1m0s\u001b[0m 4ms/step - loss: 3664206626816.0000 - mean_squared_error: 3664206626816.0000 - val_loss: 5220563156992.0000 - val_mean_squared_error: 5220563156992.0000\n",
            "Epoch 7/100\n",
            "\u001b[1m28/28\u001b[0m \u001b[32m━━━━━━━━━━━━━━━━━━━━\u001b[0m\u001b[37m\u001b[0m \u001b[1m0s\u001b[0m 4ms/step - loss: 3377066147840.0000 - mean_squared_error: 3377066147840.0000 - val_loss: 5537389871104.0000 - val_mean_squared_error: 5537389871104.0000\n",
            "Epoch 8/100\n",
            "\u001b[1m28/28\u001b[0m \u001b[32m━━━━━━━━━━━━━━━━━━━━\u001b[0m\u001b[37m\u001b[0m \u001b[1m0s\u001b[0m 4ms/step - loss: 3354036535296.0000 - mean_squared_error: 3354036535296.0000 - val_loss: 5166574600192.0000 - val_mean_squared_error: 5166574600192.0000\n",
            "Epoch 9/100\n",
            "\u001b[1m28/28\u001b[0m \u001b[32m━━━━━━━━━━━━━━━━━━━━\u001b[0m\u001b[37m\u001b[0m \u001b[1m0s\u001b[0m 6ms/step - loss: 3432715911168.0000 - mean_squared_error: 3432715911168.0000 - val_loss: 5685250621440.0000 - val_mean_squared_error: 5685250621440.0000\n",
            "Epoch 10/100\n",
            "\u001b[1m28/28\u001b[0m \u001b[32m━━━━━━━━━━━━━━━━━━━━\u001b[0m\u001b[37m\u001b[0m \u001b[1m0s\u001b[0m 4ms/step - loss: 3331298164736.0000 - mean_squared_error: 3331298164736.0000 - val_loss: 5504458817536.0000 - val_mean_squared_error: 5504458817536.0000\n",
            "Epoch 11/100\n",
            "\u001b[1m28/28\u001b[0m \u001b[32m━━━━━━━━━━━━━━━━━━━━\u001b[0m\u001b[37m\u001b[0m \u001b[1m0s\u001b[0m 5ms/step - loss: 3019264753664.0000 - mean_squared_error: 3019264753664.0000 - val_loss: 5162254991360.0000 - val_mean_squared_error: 5162254991360.0000\n",
            "Epoch 12/100\n",
            "\u001b[1m28/28\u001b[0m \u001b[32m━━━━━━━━━━━━━━━━━━━━\u001b[0m\u001b[37m\u001b[0m \u001b[1m0s\u001b[0m 4ms/step - loss: 3191428874240.0000 - mean_squared_error: 3191428874240.0000 - val_loss: 5323127521280.0000 - val_mean_squared_error: 5323127521280.0000\n",
            "Epoch 13/100\n",
            "\u001b[1m28/28\u001b[0m \u001b[32m━━━━━━━━━━━━━━━━━━━━\u001b[0m\u001b[37m\u001b[0m \u001b[1m0s\u001b[0m 4ms/step - loss: 3078082789376.0000 - mean_squared_error: 3078082789376.0000 - val_loss: 5153450098688.0000 - val_mean_squared_error: 5153450098688.0000\n",
            "Epoch 14/100\n",
            "\u001b[1m28/28\u001b[0m \u001b[32m━━━━━━━━━━━━━━━━━━━━\u001b[0m\u001b[37m\u001b[0m \u001b[1m0s\u001b[0m 4ms/step - loss: 3091296681984.0000 - mean_squared_error: 3091296681984.0000 - val_loss: 5231862087680.0000 - val_mean_squared_error: 5231862087680.0000\n",
            "Epoch 15/100\n",
            "\u001b[1m28/28\u001b[0m \u001b[32m━━━━━━━━━━━━━━━━━━━━\u001b[0m\u001b[37m\u001b[0m \u001b[1m0s\u001b[0m 4ms/step - loss: 3038304272384.0000 - mean_squared_error: 3038304272384.0000 - val_loss: 5324329189376.0000 - val_mean_squared_error: 5324329189376.0000\n",
            "Epoch 16/100\n",
            "\u001b[1m28/28\u001b[0m \u001b[32m━━━━━━━━━━━━━━━━━━━━\u001b[0m\u001b[37m\u001b[0m \u001b[1m0s\u001b[0m 4ms/step - loss: 3113118334976.0000 - mean_squared_error: 3113118334976.0000 - val_loss: 5184880640000.0000 - val_mean_squared_error: 5184880640000.0000\n",
            "Epoch 17/100\n",
            "\u001b[1m28/28\u001b[0m \u001b[32m━━━━━━━━━━━━━━━━━━━━\u001b[0m\u001b[37m\u001b[0m \u001b[1m0s\u001b[0m 4ms/step - loss: 3588436525056.0000 - mean_squared_error: 3588436525056.0000 - val_loss: 5889883897856.0000 - val_mean_squared_error: 5889883897856.0000\n",
            "Epoch 18/100\n",
            "\u001b[1m28/28\u001b[0m \u001b[32m━━━━━━━━━━━━━━━━━━━━\u001b[0m\u001b[37m\u001b[0m \u001b[1m0s\u001b[0m 4ms/step - loss: 3325093216256.0000 - mean_squared_error: 3325093216256.0000 - val_loss: 5742881931264.0000 - val_mean_squared_error: 5742881931264.0000\n",
            "Epoch 19/100\n",
            "\u001b[1m28/28\u001b[0m \u001b[32m━━━━━━━━━━━━━━━━━━━━\u001b[0m\u001b[37m\u001b[0m \u001b[1m0s\u001b[0m 4ms/step - loss: 3017984180224.0000 - mean_squared_error: 3017984180224.0000 - val_loss: 5170931433472.0000 - val_mean_squared_error: 5170931433472.0000\n",
            "Epoch 20/100\n",
            "\u001b[1m28/28\u001b[0m \u001b[32m━━━━━━━━━━━━━━━━━━━━\u001b[0m\u001b[37m\u001b[0m \u001b[1m0s\u001b[0m 4ms/step - loss: 3180254461952.0000 - mean_squared_error: 3180254461952.0000 - val_loss: 5288966488064.0000 - val_mean_squared_error: 5288966488064.0000\n",
            "Epoch 21/100\n",
            "\u001b[1m28/28\u001b[0m \u001b[32m━━━━━━━━━━━━━━━━━━━━\u001b[0m\u001b[37m\u001b[0m \u001b[1m0s\u001b[0m 4ms/step - loss: 3207037190144.0000 - mean_squared_error: 3207037190144.0000 - val_loss: 5208785551360.0000 - val_mean_squared_error: 5208785551360.0000\n",
            "Epoch 22/100\n",
            "\u001b[1m28/28\u001b[0m \u001b[32m━━━━━━━━━━━━━━━━━━━━\u001b[0m\u001b[37m\u001b[0m \u001b[1m0s\u001b[0m 4ms/step - loss: 3017097347072.0000 - mean_squared_error: 3017097347072.0000 - val_loss: 5268429602816.0000 - val_mean_squared_error: 5268429602816.0000\n",
            "Epoch 23/100\n",
            "\u001b[1m28/28\u001b[0m \u001b[32m━━━━━━━━━━━━━━━━━━━━\u001b[0m\u001b[37m\u001b[0m \u001b[1m0s\u001b[0m 4ms/step - loss: 2841476857856.0000 - mean_squared_error: 2841476857856.0000 - val_loss: 5202770919424.0000 - val_mean_squared_error: 5202770919424.0000\n",
            "Epoch 24/100\n",
            "\u001b[1m28/28\u001b[0m \u001b[32m━━━━━━━━━━━━━━━━━━━━\u001b[0m\u001b[37m\u001b[0m \u001b[1m0s\u001b[0m 4ms/step - loss: 3043420274688.0000 - mean_squared_error: 3043420274688.0000 - val_loss: 5132272533504.0000 - val_mean_squared_error: 5132272533504.0000\n",
            "Epoch 25/100\n",
            "\u001b[1m28/28\u001b[0m \u001b[32m━━━━━━━━━━━━━━━━━━━━\u001b[0m\u001b[37m\u001b[0m \u001b[1m0s\u001b[0m 4ms/step - loss: 2994721259520.0000 - mean_squared_error: 2994721259520.0000 - val_loss: 5279966035968.0000 - val_mean_squared_error: 5279966035968.0000\n",
            "Epoch 26/100\n",
            "\u001b[1m28/28\u001b[0m \u001b[32m━━━━━━━━━━━━━━━━━━━━\u001b[0m\u001b[37m\u001b[0m \u001b[1m0s\u001b[0m 4ms/step - loss: 3063811407872.0000 - mean_squared_error: 3063811407872.0000 - val_loss: 5128835825664.0000 - val_mean_squared_error: 5128835825664.0000\n",
            "Epoch 27/100\n",
            "\u001b[1m28/28\u001b[0m \u001b[32m━━━━━━━━━━━━━━━━━━━━\u001b[0m\u001b[37m\u001b[0m \u001b[1m0s\u001b[0m 5ms/step - loss: 3205595922432.0000 - mean_squared_error: 3205595922432.0000 - val_loss: 5745634967552.0000 - val_mean_squared_error: 5745634967552.0000\n",
            "Epoch 28/100\n",
            "\u001b[1m28/28\u001b[0m \u001b[32m━━━━━━━━━━━━━━━━━━━━\u001b[0m\u001b[37m\u001b[0m \u001b[1m0s\u001b[0m 4ms/step - loss: 2855153958912.0000 - mean_squared_error: 2855153958912.0000 - val_loss: 5522254200832.0000 - val_mean_squared_error: 5522254200832.0000\n",
            "Epoch 29/100\n",
            "\u001b[1m28/28\u001b[0m \u001b[32m━━━━━━━━━━━━━━━━━━━━\u001b[0m\u001b[37m\u001b[0m \u001b[1m0s\u001b[0m 6ms/step - loss: 2887762575360.0000 - mean_squared_error: 2887762575360.0000 - val_loss: 5342962909184.0000 - val_mean_squared_error: 5342962909184.0000\n",
            "Epoch 30/100\n",
            "\u001b[1m28/28\u001b[0m \u001b[32m━━━━━━━━━━━━━━━━━━━━\u001b[0m\u001b[37m\u001b[0m \u001b[1m0s\u001b[0m 4ms/step - loss: 3091344654336.0000 - mean_squared_error: 3091344654336.0000 - val_loss: 5408297058304.0000 - val_mean_squared_error: 5408297058304.0000\n",
            "Epoch 31/100\n",
            "\u001b[1m28/28\u001b[0m \u001b[32m━━━━━━━━━━━━━━━━━━━━\u001b[0m\u001b[37m\u001b[0m \u001b[1m0s\u001b[0m 5ms/step - loss: 2959795552256.0000 - mean_squared_error: 2959795552256.0000 - val_loss: 5121566048256.0000 - val_mean_squared_error: 5121566048256.0000\n",
            "Epoch 32/100\n",
            "\u001b[1m28/28\u001b[0m \u001b[32m━━━━━━━━━━━━━━━━━━━━\u001b[0m\u001b[37m\u001b[0m \u001b[1m0s\u001b[0m 4ms/step - loss: 3334485835776.0000 - mean_squared_error: 3334485835776.0000 - val_loss: 5265900961792.0000 - val_mean_squared_error: 5265900961792.0000\n",
            "Epoch 33/100\n",
            "\u001b[1m28/28\u001b[0m \u001b[32m━━━━━━━━━━━━━━━━━━━━\u001b[0m\u001b[37m\u001b[0m \u001b[1m0s\u001b[0m 4ms/step - loss: 3102130569216.0000 - mean_squared_error: 3102130569216.0000 - val_loss: 5363608846336.0000 - val_mean_squared_error: 5363608846336.0000\n",
            "Epoch 34/100\n",
            "\u001b[1m28/28\u001b[0m \u001b[32m━━━━━━━━━━━━━━━━━━━━\u001b[0m\u001b[37m\u001b[0m \u001b[1m0s\u001b[0m 4ms/step - loss: 3064226906112.0000 - mean_squared_error: 3064226906112.0000 - val_loss: 5117241720832.0000 - val_mean_squared_error: 5117241720832.0000\n",
            "Epoch 35/100\n",
            "\u001b[1m28/28\u001b[0m \u001b[32m━━━━━━━━━━━━━━━━━━━━\u001b[0m\u001b[37m\u001b[0m \u001b[1m0s\u001b[0m 4ms/step - loss: 3455403163648.0000 - mean_squared_error: 3455403163648.0000 - val_loss: 5536788512768.0000 - val_mean_squared_error: 5536788512768.0000\n",
            "Epoch 36/100\n",
            "\u001b[1m28/28\u001b[0m \u001b[32m━━━━━━━━━━━━━━━━━━━━\u001b[0m\u001b[37m\u001b[0m \u001b[1m0s\u001b[0m 5ms/step - loss: 2839741988864.0000 - mean_squared_error: 2839741988864.0000 - val_loss: 5120562561024.0000 - val_mean_squared_error: 5120562561024.0000\n",
            "Epoch 37/100\n",
            "\u001b[1m28/28\u001b[0m \u001b[32m━━━━━━━━━━━━━━━━━━━━\u001b[0m\u001b[37m\u001b[0m \u001b[1m0s\u001b[0m 4ms/step - loss: 3025643241472.0000 - mean_squared_error: 3025643241472.0000 - val_loss: 5117880827904.0000 - val_mean_squared_error: 5117880827904.0000\n",
            "Epoch 38/100\n",
            "\u001b[1m28/28\u001b[0m \u001b[32m━━━━━━━━━━━━━━━━━━━━\u001b[0m\u001b[37m\u001b[0m \u001b[1m0s\u001b[0m 4ms/step - loss: 2974198267904.0000 - mean_squared_error: 2974198267904.0000 - val_loss: 5783360634880.0000 - val_mean_squared_error: 5783360634880.0000\n",
            "Epoch 39/100\n",
            "\u001b[1m28/28\u001b[0m \u001b[32m━━━━━━━━━━━━━━━━━━━━\u001b[0m\u001b[37m\u001b[0m \u001b[1m0s\u001b[0m 4ms/step - loss: 3108975935488.0000 - mean_squared_error: 3108975935488.0000 - val_loss: 5114597212160.0000 - val_mean_squared_error: 5114597212160.0000\n",
            "Epoch 40/100\n",
            "\u001b[1m28/28\u001b[0m \u001b[32m━━━━━━━━━━━━━━━━━━━━\u001b[0m\u001b[37m\u001b[0m \u001b[1m0s\u001b[0m 4ms/step - loss: 3035431436288.0000 - mean_squared_error: 3035431436288.0000 - val_loss: 5240454119424.0000 - val_mean_squared_error: 5240454119424.0000\n",
            "Epoch 41/100\n",
            "\u001b[1m28/28\u001b[0m \u001b[32m━━━━━━━━━━━━━━━━━━━━\u001b[0m\u001b[37m\u001b[0m \u001b[1m0s\u001b[0m 4ms/step - loss: 3209109700608.0000 - mean_squared_error: 3209109700608.0000 - val_loss: 5113663455232.0000 - val_mean_squared_error: 5113663455232.0000\n",
            "Epoch 42/100\n",
            "\u001b[1m28/28\u001b[0m \u001b[32m━━━━━━━━━━━━━━━━━━━━\u001b[0m\u001b[37m\u001b[0m \u001b[1m0s\u001b[0m 4ms/step - loss: 3028070432768.0000 - mean_squared_error: 3028070432768.0000 - val_loss: 5197646528512.0000 - val_mean_squared_error: 5197646528512.0000\n",
            "Epoch 43/100\n",
            "\u001b[1m28/28\u001b[0m \u001b[32m━━━━━━━━━━━━━━━━━━━━\u001b[0m\u001b[37m\u001b[0m \u001b[1m0s\u001b[0m 4ms/step - loss: 2904820547584.0000 - mean_squared_error: 2904820547584.0000 - val_loss: 5392513892352.0000 - val_mean_squared_error: 5392513892352.0000\n",
            "Epoch 44/100\n",
            "\u001b[1m28/28\u001b[0m \u001b[32m━━━━━━━━━━━━━━━━━━━━\u001b[0m\u001b[37m\u001b[0m \u001b[1m0s\u001b[0m 4ms/step - loss: 2932771913728.0000 - mean_squared_error: 2932771913728.0000 - val_loss: 5178198065152.0000 - val_mean_squared_error: 5178198065152.0000\n",
            "Epoch 45/100\n",
            "\u001b[1m28/28\u001b[0m \u001b[32m━━━━━━━━━━━━━━━━━━━━\u001b[0m\u001b[37m\u001b[0m \u001b[1m0s\u001b[0m 4ms/step - loss: 2949680201728.0000 - mean_squared_error: 2949680201728.0000 - val_loss: 5479284080640.0000 - val_mean_squared_error: 5479284080640.0000\n",
            "Epoch 46/100\n",
            "\u001b[1m28/28\u001b[0m \u001b[32m━━━━━━━━━━━━━━━━━━━━\u001b[0m\u001b[37m\u001b[0m \u001b[1m0s\u001b[0m 5ms/step - loss: 3272532033536.0000 - mean_squared_error: 3272532033536.0000 - val_loss: 5343259656192.0000 - val_mean_squared_error: 5343259656192.0000\n",
            "Epoch 47/100\n",
            "\u001b[1m28/28\u001b[0m \u001b[32m━━━━━━━━━━━━━━━━━━━━\u001b[0m\u001b[37m\u001b[0m \u001b[1m0s\u001b[0m 4ms/step - loss: 3440185704448.0000 - mean_squared_error: 3440185704448.0000 - val_loss: 5450628595712.0000 - val_mean_squared_error: 5450628595712.0000\n",
            "Epoch 48/100\n",
            "\u001b[1m28/28\u001b[0m \u001b[32m━━━━━━━━━━━━━━━━━━━━\u001b[0m\u001b[37m\u001b[0m \u001b[1m0s\u001b[0m 4ms/step - loss: 3165888446464.0000 - mean_squared_error: 3165888446464.0000 - val_loss: 5160676360192.0000 - val_mean_squared_error: 5160676360192.0000\n",
            "Epoch 49/100\n",
            "\u001b[1m28/28\u001b[0m \u001b[32m━━━━━━━━━━━━━━━━━━━━\u001b[0m\u001b[37m\u001b[0m \u001b[1m0s\u001b[0m 4ms/step - loss: 2985680961536.0000 - mean_squared_error: 2985680961536.0000 - val_loss: 5102962212864.0000 - val_mean_squared_error: 5102962212864.0000\n",
            "Epoch 50/100\n",
            "\u001b[1m28/28\u001b[0m \u001b[32m━━━━━━━━━━━━━━━━━━━━\u001b[0m\u001b[37m\u001b[0m \u001b[1m0s\u001b[0m 4ms/step - loss: 2961267228672.0000 - mean_squared_error: 2961267228672.0000 - val_loss: 5354456350720.0000 - val_mean_squared_error: 5354456350720.0000\n",
            "Epoch 51/100\n",
            "\u001b[1m28/28\u001b[0m \u001b[32m━━━━━━━━━━━━━━━━━━━━\u001b[0m\u001b[37m\u001b[0m \u001b[1m0s\u001b[0m 4ms/step - loss: 3114955177984.0000 - mean_squared_error: 3114955177984.0000 - val_loss: 5137014718464.0000 - val_mean_squared_error: 5137014718464.0000\n",
            "Epoch 52/100\n",
            "\u001b[1m28/28\u001b[0m \u001b[32m━━━━━━━━━━━━━━━━━━━━\u001b[0m\u001b[37m\u001b[0m \u001b[1m0s\u001b[0m 4ms/step - loss: 2975473860608.0000 - mean_squared_error: 2975473860608.0000 - val_loss: 5120977272832.0000 - val_mean_squared_error: 5120977272832.0000\n",
            "Epoch 53/100\n",
            "\u001b[1m28/28\u001b[0m \u001b[32m━━━━━━━━━━━━━━━━━━━━\u001b[0m\u001b[37m\u001b[0m \u001b[1m0s\u001b[0m 4ms/step - loss: 2927176712192.0000 - mean_squared_error: 2927176712192.0000 - val_loss: 5272506466304.0000 - val_mean_squared_error: 5272506466304.0000\n",
            "Epoch 54/100\n",
            "\u001b[1m28/28\u001b[0m \u001b[32m━━━━━━━━━━━━━━━━━━━━\u001b[0m\u001b[37m\u001b[0m \u001b[1m0s\u001b[0m 4ms/step - loss: 3602646040576.0000 - mean_squared_error: 3602646040576.0000 - val_loss: 5121296039936.0000 - val_mean_squared_error: 5121296039936.0000\n",
            "Epoch 55/100\n",
            "\u001b[1m28/28\u001b[0m \u001b[32m━━━━━━━━━━━━━━━━━━━━\u001b[0m\u001b[37m\u001b[0m \u001b[1m0s\u001b[0m 7ms/step - loss: 2826790240256.0000 - mean_squared_error: 2826790240256.0000 - val_loss: 5382614286336.0000 - val_mean_squared_error: 5382614286336.0000\n",
            "Epoch 56/100\n",
            "\u001b[1m28/28\u001b[0m \u001b[32m━━━━━━━━━━━━━━━━━━━━\u001b[0m\u001b[37m\u001b[0m \u001b[1m0s\u001b[0m 7ms/step - loss: 3202362114048.0000 - mean_squared_error: 3202362114048.0000 - val_loss: 5168819077120.0000 - val_mean_squared_error: 5168819077120.0000\n",
            "Epoch 57/100\n",
            "\u001b[1m28/28\u001b[0m \u001b[32m━━━━━━━━━━━━━━━━━━━━\u001b[0m\u001b[37m\u001b[0m \u001b[1m0s\u001b[0m 7ms/step - loss: 3026245910528.0000 - mean_squared_error: 3026245910528.0000 - val_loss: 5240070864896.0000 - val_mean_squared_error: 5240070864896.0000\n",
            "Epoch 58/100\n",
            "\u001b[1m28/28\u001b[0m \u001b[32m━━━━━━━━━━━━━━━━━━━━\u001b[0m\u001b[37m\u001b[0m \u001b[1m0s\u001b[0m 6ms/step - loss: 2948138532864.0000 - mean_squared_error: 2948138532864.0000 - val_loss: 5114660126720.0000 - val_mean_squared_error: 5114660126720.0000\n",
            "Epoch 59/100\n",
            "\u001b[1m28/28\u001b[0m \u001b[32m━━━━━━━━━━━━━━━━━━━━\u001b[0m\u001b[37m\u001b[0m \u001b[1m0s\u001b[0m 7ms/step - loss: 3015197327360.0000 - mean_squared_error: 3015197327360.0000 - val_loss: 5532036890624.0000 - val_mean_squared_error: 5532036890624.0000\n",
            "Epoch 60/100\n",
            "\u001b[1m28/28\u001b[0m \u001b[32m━━━━━━━━━━━━━━━━━━━━\u001b[0m\u001b[37m\u001b[0m \u001b[1m0s\u001b[0m 7ms/step - loss: 2946521104384.0000 - mean_squared_error: 2946521104384.0000 - val_loss: 5266171494400.0000 - val_mean_squared_error: 5266171494400.0000\n",
            "Epoch 61/100\n",
            "\u001b[1m28/28\u001b[0m \u001b[32m━━━━━━━━━━━━━━━━━━━━\u001b[0m\u001b[37m\u001b[0m \u001b[1m0s\u001b[0m 6ms/step - loss: 2995871285248.0000 - mean_squared_error: 2995871285248.0000 - val_loss: 5874806423552.0000 - val_mean_squared_error: 5874806423552.0000\n",
            "Epoch 62/100\n",
            "\u001b[1m28/28\u001b[0m \u001b[32m━━━━━━━━━━━━━━━━━━━━\u001b[0m\u001b[37m\u001b[0m \u001b[1m0s\u001b[0m 4ms/step - loss: 3741518921728.0000 - mean_squared_error: 3741518921728.0000 - val_loss: 5098940923904.0000 - val_mean_squared_error: 5098940923904.0000\n",
            "Epoch 63/100\n",
            "\u001b[1m28/28\u001b[0m \u001b[32m━━━━━━━━━━━━━━━━━━━━\u001b[0m\u001b[37m\u001b[0m \u001b[1m0s\u001b[0m 5ms/step - loss: 3358148788224.0000 - mean_squared_error: 3358148788224.0000 - val_loss: 5245670785024.0000 - val_mean_squared_error: 5245670785024.0000\n",
            "Epoch 64/100\n",
            "\u001b[1m28/28\u001b[0m \u001b[32m━━━━━━━━━━━━━━━━━━━━\u001b[0m\u001b[37m\u001b[0m \u001b[1m0s\u001b[0m 4ms/step - loss: 2911401672704.0000 - mean_squared_error: 2911401672704.0000 - val_loss: 5095574994944.0000 - val_mean_squared_error: 5095574994944.0000\n",
            "Epoch 65/100\n",
            "\u001b[1m28/28\u001b[0m \u001b[32m━━━━━━━━━━━━━━━━━━━━\u001b[0m\u001b[37m\u001b[0m \u001b[1m0s\u001b[0m 4ms/step - loss: 3499576262656.0000 - mean_squared_error: 3499576262656.0000 - val_loss: 5372302589952.0000 - val_mean_squared_error: 5372302589952.0000\n",
            "Epoch 66/100\n",
            "\u001b[1m28/28\u001b[0m \u001b[32m━━━━━━━━━━━━━━━━━━━━\u001b[0m\u001b[37m\u001b[0m \u001b[1m0s\u001b[0m 4ms/step - loss: 2939817033728.0000 - mean_squared_error: 2939817033728.0000 - val_loss: 5786531528704.0000 - val_mean_squared_error: 5786531528704.0000\n",
            "Epoch 67/100\n",
            "\u001b[1m28/28\u001b[0m \u001b[32m━━━━━━━━━━━━━━━━━━━━\u001b[0m\u001b[37m\u001b[0m \u001b[1m0s\u001b[0m 5ms/step - loss: 2937068978176.0000 - mean_squared_error: 2937068978176.0000 - val_loss: 5251035824128.0000 - val_mean_squared_error: 5251035824128.0000\n",
            "Epoch 68/100\n",
            "\u001b[1m28/28\u001b[0m \u001b[32m━━━━━━━━━━━━━━━━━━━━\u001b[0m\u001b[37m\u001b[0m \u001b[1m0s\u001b[0m 4ms/step - loss: 2733482967040.0000 - mean_squared_error: 2733482967040.0000 - val_loss: 5092641079296.0000 - val_mean_squared_error: 5092641079296.0000\n",
            "Epoch 69/100\n",
            "\u001b[1m28/28\u001b[0m \u001b[32m━━━━━━━━━━━━━━━━━━━━\u001b[0m\u001b[37m\u001b[0m \u001b[1m0s\u001b[0m 4ms/step - loss: 3650697035776.0000 - mean_squared_error: 3650697035776.0000 - val_loss: 5174230253568.0000 - val_mean_squared_error: 5174230253568.0000\n",
            "Epoch 70/100\n",
            "\u001b[1m28/28\u001b[0m \u001b[32m━━━━━━━━━━━━━━━━━━━━\u001b[0m\u001b[37m\u001b[0m \u001b[1m0s\u001b[0m 4ms/step - loss: 3384485609472.0000 - mean_squared_error: 3384485609472.0000 - val_loss: 5710657617920.0000 - val_mean_squared_error: 5710657617920.0000\n",
            "Epoch 71/100\n",
            "\u001b[1m28/28\u001b[0m \u001b[32m━━━━━━━━━━━━━━━━━━━━\u001b[0m\u001b[37m\u001b[0m \u001b[1m0s\u001b[0m 6ms/step - loss: 2840037425152.0000 - mean_squared_error: 2840037425152.0000 - val_loss: 5564357148672.0000 - val_mean_squared_error: 5564357148672.0000\n",
            "Epoch 72/100\n",
            "\u001b[1m28/28\u001b[0m \u001b[32m━━━━━━━━━━━━━━━━━━━━\u001b[0m\u001b[37m\u001b[0m \u001b[1m0s\u001b[0m 4ms/step - loss: 3219103678464.0000 - mean_squared_error: 3219103678464.0000 - val_loss: 5309021552640.0000 - val_mean_squared_error: 5309021552640.0000\n",
            "Epoch 73/100\n",
            "\u001b[1m28/28\u001b[0m \u001b[32m━━━━━━━━━━━━━━━━━━━━\u001b[0m\u001b[37m\u001b[0m \u001b[1m0s\u001b[0m 4ms/step - loss: 3616829603840.0000 - mean_squared_error: 3616829603840.0000 - val_loss: 5127337410560.0000 - val_mean_squared_error: 5127337410560.0000\n",
            "Epoch 74/100\n",
            "\u001b[1m28/28\u001b[0m \u001b[32m━━━━━━━━━━━━━━━━━━━━\u001b[0m\u001b[37m\u001b[0m \u001b[1m0s\u001b[0m 4ms/step - loss: 2834735038464.0000 - mean_squared_error: 2834735038464.0000 - val_loss: 5156205232128.0000 - val_mean_squared_error: 5156205232128.0000\n",
            "Epoch 75/100\n",
            "\u001b[1m28/28\u001b[0m \u001b[32m━━━━━━━━━━━━━━━━━━━━\u001b[0m\u001b[37m\u001b[0m \u001b[1m0s\u001b[0m 4ms/step - loss: 2811162263552.0000 - mean_squared_error: 2811162263552.0000 - val_loss: 5104327458816.0000 - val_mean_squared_error: 5104327458816.0000\n",
            "Epoch 76/100\n",
            "\u001b[1m28/28\u001b[0m \u001b[32m━━━━━━━━━━━━━━━━━━━━\u001b[0m\u001b[37m\u001b[0m \u001b[1m0s\u001b[0m 4ms/step - loss: 2920419950592.0000 - mean_squared_error: 2920419950592.0000 - val_loss: 5160615018496.0000 - val_mean_squared_error: 5160615018496.0000\n",
            "Epoch 77/100\n",
            "\u001b[1m28/28\u001b[0m \u001b[32m━━━━━━━━━━━━━━━━━━━━\u001b[0m\u001b[37m\u001b[0m \u001b[1m0s\u001b[0m 4ms/step - loss: 2927903637504.0000 - mean_squared_error: 2927903637504.0000 - val_loss: 5207765286912.0000 - val_mean_squared_error: 5207765286912.0000\n",
            "Epoch 78/100\n",
            "\u001b[1m28/28\u001b[0m \u001b[32m━━━━━━━━━━━━━━━━━━━━\u001b[0m\u001b[37m\u001b[0m \u001b[1m0s\u001b[0m 5ms/step - loss: 3307214471168.0000 - mean_squared_error: 3307214471168.0000 - val_loss: 5482266755072.0000 - val_mean_squared_error: 5482266755072.0000\n",
            "Epoch 79/100\n",
            "\u001b[1m28/28\u001b[0m \u001b[32m━━━━━━━━━━━━━━━━━━━━\u001b[0m\u001b[37m\u001b[0m \u001b[1m0s\u001b[0m 4ms/step - loss: 3063329587200.0000 - mean_squared_error: 3063329587200.0000 - val_loss: 5285438029824.0000 - val_mean_squared_error: 5285438029824.0000\n",
            "Epoch 80/100\n",
            "\u001b[1m28/28\u001b[0m \u001b[32m━━━━━━━━━━━━━━━━━━━━\u001b[0m\u001b[37m\u001b[0m \u001b[1m0s\u001b[0m 4ms/step - loss: 3038645059584.0000 - mean_squared_error: 3038645059584.0000 - val_loss: 5138041274368.0000 - val_mean_squared_error: 5138041274368.0000\n",
            "Epoch 81/100\n",
            "\u001b[1m28/28\u001b[0m \u001b[32m━━━━━━━━━━━━━━━━━━━━\u001b[0m\u001b[37m\u001b[0m \u001b[1m0s\u001b[0m 5ms/step - loss: 3157321056256.0000 - mean_squared_error: 3157321056256.0000 - val_loss: 5096465760256.0000 - val_mean_squared_error: 5096465760256.0000\n",
            "Epoch 82/100\n",
            "\u001b[1m28/28\u001b[0m \u001b[32m━━━━━━━━━━━━━━━━━━━━\u001b[0m\u001b[37m\u001b[0m \u001b[1m0s\u001b[0m 4ms/step - loss: 3005913759744.0000 - mean_squared_error: 3005913759744.0000 - val_loss: 5113381388288.0000 - val_mean_squared_error: 5113381388288.0000\n",
            "Epoch 83/100\n",
            "\u001b[1m28/28\u001b[0m \u001b[32m━━━━━━━━━━━━━━━━━━━━\u001b[0m\u001b[37m\u001b[0m \u001b[1m0s\u001b[0m 4ms/step - loss: 3126608527360.0000 - mean_squared_error: 3126608527360.0000 - val_loss: 5298061836288.0000 - val_mean_squared_error: 5298061836288.0000\n",
            "Epoch 84/100\n",
            "\u001b[1m28/28\u001b[0m \u001b[32m━━━━━━━━━━━━━━━━━━━━\u001b[0m\u001b[37m\u001b[0m \u001b[1m0s\u001b[0m 4ms/step - loss: 3468448235520.0000 - mean_squared_error: 3468448235520.0000 - val_loss: 5094266372096.0000 - val_mean_squared_error: 5094266372096.0000\n",
            "Epoch 85/100\n",
            "\u001b[1m28/28\u001b[0m \u001b[32m━━━━━━━━━━━━━━━━━━━━\u001b[0m\u001b[37m\u001b[0m \u001b[1m0s\u001b[0m 4ms/step - loss: 2891154456576.0000 - mean_squared_error: 2891154456576.0000 - val_loss: 5837029900288.0000 - val_mean_squared_error: 5837029900288.0000\n",
            "Epoch 86/100\n",
            "\u001b[1m28/28\u001b[0m \u001b[32m━━━━━━━━━━━━━━━━━━━━\u001b[0m\u001b[37m\u001b[0m \u001b[1m0s\u001b[0m 4ms/step - loss: 2960903634944.0000 - mean_squared_error: 2960903634944.0000 - val_loss: 5110883155968.0000 - val_mean_squared_error: 5110883155968.0000\n",
            "Epoch 87/100\n",
            "\u001b[1m28/28\u001b[0m \u001b[32m━━━━━━━━━━━━━━━━━━━━\u001b[0m\u001b[37m\u001b[0m \u001b[1m0s\u001b[0m 4ms/step - loss: 2957021806592.0000 - mean_squared_error: 2957021806592.0000 - val_loss: 5796547002368.0000 - val_mean_squared_error: 5796547002368.0000\n",
            "Epoch 88/100\n",
            "\u001b[1m28/28\u001b[0m \u001b[32m━━━━━━━━━━━━━━━━━━━━\u001b[0m\u001b[37m\u001b[0m \u001b[1m0s\u001b[0m 4ms/step - loss: 3334298140672.0000 - mean_squared_error: 3334298140672.0000 - val_loss: 5232361209856.0000 - val_mean_squared_error: 5232361209856.0000\n",
            "Epoch 89/100\n",
            "\u001b[1m28/28\u001b[0m \u001b[32m━━━━━━━━━━━━━━━━━━━━\u001b[0m\u001b[37m\u001b[0m \u001b[1m0s\u001b[0m 4ms/step - loss: 3334621364224.0000 - mean_squared_error: 3334621364224.0000 - val_loss: 5305574883328.0000 - val_mean_squared_error: 5305574883328.0000\n",
            "Epoch 90/100\n",
            "\u001b[1m28/28\u001b[0m \u001b[32m━━━━━━━━━━━━━━━━━━━━\u001b[0m\u001b[37m\u001b[0m \u001b[1m0s\u001b[0m 4ms/step - loss: 2810176077824.0000 - mean_squared_error: 2810176077824.0000 - val_loss: 5372260122624.0000 - val_mean_squared_error: 5372260122624.0000\n",
            "Epoch 91/100\n",
            "\u001b[1m28/28\u001b[0m \u001b[32m━━━━━━━━━━━━━━━━━━━━\u001b[0m\u001b[37m\u001b[0m \u001b[1m0s\u001b[0m 4ms/step - loss: 2641916854272.0000 - mean_squared_error: 2641916854272.0000 - val_loss: 5094900236288.0000 - val_mean_squared_error: 5094900236288.0000\n",
            "Epoch 92/100\n",
            "\u001b[1m28/28\u001b[0m \u001b[32m━━━━━━━━━━━━━━━━━━━━\u001b[0m\u001b[37m\u001b[0m \u001b[1m0s\u001b[0m 5ms/step - loss: 2980798529536.0000 - mean_squared_error: 2980798529536.0000 - val_loss: 5088315179008.0000 - val_mean_squared_error: 5088315179008.0000\n",
            "Epoch 93/100\n",
            "\u001b[1m28/28\u001b[0m \u001b[32m━━━━━━━━━━━━━━━━━━━━\u001b[0m\u001b[37m\u001b[0m \u001b[1m0s\u001b[0m 6ms/step - loss: 3010346352640.0000 - mean_squared_error: 3010346352640.0000 - val_loss: 5087120850944.0000 - val_mean_squared_error: 5087120850944.0000\n",
            "Epoch 94/100\n",
            "\u001b[1m28/28\u001b[0m \u001b[32m━━━━━━━━━━━━━━━━━━━━\u001b[0m\u001b[37m\u001b[0m \u001b[1m0s\u001b[0m 4ms/step - loss: 3414322577408.0000 - mean_squared_error: 3414322577408.0000 - val_loss: 5689922551808.0000 - val_mean_squared_error: 5689922551808.0000\n",
            "Epoch 95/100\n",
            "\u001b[1m28/28\u001b[0m \u001b[32m━━━━━━━━━━━━━━━━━━━━\u001b[0m\u001b[37m\u001b[0m \u001b[1m0s\u001b[0m 5ms/step - loss: 3437584449536.0000 - mean_squared_error: 3437584449536.0000 - val_loss: 5780580335616.0000 - val_mean_squared_error: 5780580335616.0000\n",
            "Epoch 96/100\n",
            "\u001b[1m28/28\u001b[0m \u001b[32m━━━━━━━━━━━━━━━━━━━━\u001b[0m\u001b[37m\u001b[0m \u001b[1m0s\u001b[0m 4ms/step - loss: 3115225448448.0000 - mean_squared_error: 3115225448448.0000 - val_loss: 5367352262656.0000 - val_mean_squared_error: 5367352262656.0000\n",
            "Epoch 97/100\n",
            "\u001b[1m28/28\u001b[0m \u001b[32m━━━━━━━━━━━━━━━━━━━━\u001b[0m\u001b[37m\u001b[0m \u001b[1m0s\u001b[0m 5ms/step - loss: 2947931701248.0000 - mean_squared_error: 2947931701248.0000 - val_loss: 5388796690432.0000 - val_mean_squared_error: 5388796690432.0000\n",
            "Epoch 98/100\n",
            "\u001b[1m28/28\u001b[0m \u001b[32m━━━━━━━━━━━━━━━━━━━━\u001b[0m\u001b[37m\u001b[0m \u001b[1m0s\u001b[0m 6ms/step - loss: 2871694196736.0000 - mean_squared_error: 2871694196736.0000 - val_loss: 5390886502400.0000 - val_mean_squared_error: 5390886502400.0000\n",
            "Epoch 99/100\n",
            "\u001b[1m28/28\u001b[0m \u001b[32m━━━━━━━━━━━━━━━━━━━━\u001b[0m\u001b[37m\u001b[0m \u001b[1m0s\u001b[0m 4ms/step - loss: 2808886067200.0000 - mean_squared_error: 2808886067200.0000 - val_loss: 5517743226880.0000 - val_mean_squared_error: 5517743226880.0000\n",
            "Epoch 100/100\n",
            "\u001b[1m28/28\u001b[0m \u001b[32m━━━━━━━━━━━━━━━━━━━━\u001b[0m\u001b[37m\u001b[0m \u001b[1m0s\u001b[0m 4ms/step - loss: 3085854048256.0000 - mean_squared_error: 3085854048256.0000 - val_loss: 5117673734144.0000 - val_mean_squared_error: 5117673734144.0000\n"
          ]
        }
      ]
    },
    {
      "cell_type": "code",
      "source": [
        "# Calculate the training error\n",
        "train_loss, train_mse = model.evaluate(X_train, y_train)\n",
        "print(f\"Training MSE: {train_mse}\")\n",
        "\n",
        "# Calculate the testing error\n",
        "test_loss, test_mse = model.evaluate(X_test, y_test)\n",
        "print(f\"Testing MSE: {test_mse}\")\n"
      ],
      "metadata": {
        "colab": {
          "base_uri": "https://localhost:8080/"
        },
        "id": "Ya7SCpFxcBSA",
        "outputId": "fce7e705-0501-4286-86d1-0cd40e6ab517"
      },
      "execution_count": 27,
      "outputs": [
        {
          "output_type": "stream",
          "name": "stdout",
          "text": [
            "\u001b[1m14/14\u001b[0m \u001b[32m━━━━━━━━━━━━━━━━━━━━\u001b[0m\u001b[37m\u001b[0m \u001b[1m0s\u001b[0m 3ms/step - loss: 3135833899008.0000 - mean_squared_error: 3135833899008.0000 \n",
            "Training MSE: 3083425021952.0\n",
            "\u001b[1m4/4\u001b[0m \u001b[32m━━━━━━━━━━━━━━━━━━━━\u001b[0m\u001b[37m\u001b[0m \u001b[1m0s\u001b[0m 12ms/step - loss: 5309790158848.0000 - mean_squared_error: 5309790158848.0000\n",
            "Testing MSE: 5117673734144.0\n"
          ]
        }
      ]
    },
    {
      "cell_type": "code",
      "source": [
        "# Save the trained model\n",
        "model.save('housing_price_model.h5')\n"
      ],
      "metadata": {
        "colab": {
          "base_uri": "https://localhost:8080/"
        },
        "id": "0eu-F_VycDpf",
        "outputId": "a1cce449-6ef3-4f8d-a379-5456013830a6"
      },
      "execution_count": 28,
      "outputs": [
        {
          "output_type": "stream",
          "name": "stderr",
          "text": [
            "WARNING:absl:You are saving your model as an HDF5 file via `model.save()` or `keras.saving.save_model(model)`. This file format is considered legacy. We recommend using instead the native Keras format, e.g. `model.save('my_model.keras')` or `keras.saving.save_model(model, 'my_model.keras')`. \n"
          ]
        }
      ]
    },
    {
      "cell_type": "code",
      "source": [
        "from tensorflow.keras.models import load_model\n",
        "\n",
        "loaded_model = load_model('housing_price_model.h5')\n",
        "\n",
        "predictions = loaded_model.predict(X_test)\n",
        "\n",
        "for actual, predicted in zip(y_test[:10], predictions[:10]):\n",
        "    print(f\"Actual: {actual}, Predicted: {predicted[0]}\")"
      ],
      "metadata": {
        "colab": {
          "base_uri": "https://localhost:8080/"
        },
        "id": "oxGHYm-QcKYv",
        "outputId": "a97c1c99-dc0f-4fc2-cc5e-4ffeecc7b6a6"
      },
      "execution_count": 31,
      "outputs": [
        {
          "output_type": "stream",
          "name": "stderr",
          "text": [
            "WARNING:absl:Compiled the loaded model, but the compiled metrics have yet to be built. `model.compile_metrics` will be empty until you train or evaluate the model.\n"
          ]
        },
        {
          "output_type": "stream",
          "name": "stdout",
          "text": [
            "\u001b[1m4/4\u001b[0m \u001b[32m━━━━━━━━━━━━━━━━━━━━\u001b[0m\u001b[37m\u001b[0m \u001b[1m0s\u001b[0m 32ms/step\n",
            "Actual: 4060000, Predicted: 4835696.5\n",
            "Actual: 6650000, Predicted: 4835696.5\n",
            "Actual: 3710000, Predicted: 4835696.5\n",
            "Actual: 6440000, Predicted: 4835696.5\n",
            "Actual: 2800000, Predicted: 4835696.5\n",
            "Actual: 4900000, Predicted: 3546975.0\n",
            "Actual: 5250000, Predicted: 4455810.5\n",
            "Actual: 4543000, Predicted: 4835696.5\n",
            "Actual: 2450000, Predicted: 4835696.5\n",
            "Actual: 3353000, Predicted: 4835696.5\n"
          ]
        }
      ]
    }
  ]
}