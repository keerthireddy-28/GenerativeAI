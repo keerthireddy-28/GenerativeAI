{
  "nbformat": 4,
  "nbformat_minor": 0,
  "metadata": {
    "colab": {
      "provenance": [],
      "authorship_tag": "ABX9TyNZ0NCEYKa4EQLDdtXEv1c/",
      "include_colab_link": true
    },
    "kernelspec": {
      "name": "python3",
      "display_name": "Python 3"
    },
    "language_info": {
      "name": "python"
    }
  },
  "cells": [
    {
      "cell_type": "markdown",
      "metadata": {
        "id": "view-in-github",
        "colab_type": "text"
      },
      "source": [
        "<a href=\"https://colab.research.google.com/github/keerthireddy-28/GenerativeAI/blob/main/2303A52263_week2_Ass2.ipynb\" target=\"_parent\"><img src=\"https://colab.research.google.com/assets/colab-badge.svg\" alt=\"Open In Colab\"/></a>"
      ]
    },
    {
      "cell_type": "markdown",
      "source": [
        "#Question 1"
      ],
      "metadata": {
        "id": "dariNEdaQf1i"
      }
    },
    {
      "cell_type": "code",
      "execution_count": 1,
      "metadata": {
        "colab": {
          "base_uri": "https://localhost:8080/"
        },
        "id": "9ERi7qUDQJD4",
        "outputId": "9aa44a75-867b-413e-878c-facf620db0fa"
      },
      "outputs": [
        {
          "output_type": "stream",
          "name": "stdout",
          "text": [
            "Optimal number of units of A (x): 2.0\n",
            "Optimal number of units of B (y): 3.0\n",
            "Maximum profit: Rs 27.0\n"
          ]
        }
      ],
      "source": [
        "from scipy.optimize import linprog\n",
        "c = [-6, -5]\n",
        "A = [[1, 1], [3, 2]]\n",
        "b = [5, 12]\n",
        "x_bounds = (0, None)\n",
        "y_bounds = (0, None)\n",
        "result = linprog(c, A_ub=A, b_ub=b, bounds=[x_bounds, y_bounds], method='highs')\n",
        "if result.success:\n",
        "    print(f\"Optimal number of units of A (x): {result.x[0]}\")\n",
        "    print(f\"Optimal number of units of B (y): {result.x[1]}\")\n",
        "    print(f\"Maximum profit: Rs {-result.fun}\")\n",
        "else:\n",
        "    print(\"No solution found.\")\n"
      ]
    },
    {
      "cell_type": "markdown",
      "source": [
        "#Question 2"
      ],
      "metadata": {
        "id": "zIzZEEs9RE4x"
      }
    },
    {
      "cell_type": "code",
      "source": [
        "from scipy.optimize import linprog\n",
        "profit_per_hectare = [-50, -120]\n",
        "constraints = [\n",
        "    [7000, 2000],\n",
        "    [10, 30],\n",
        "    [1, 1]\n",
        "]\n",
        "bounds = [700000, 1200, 110]\n",
        "x_bounds = (0, None)\n",
        "y_bounds = (0, None)\n",
        "result = linprog(\n",
        "    c=profit_per_hectare,\n",
        "    A_ub=constraints,\n",
        "    b_ub=bounds,\n",
        "    bounds=[x_bounds, y_bounds],\n",
        "    method='highs'\n",
        ")\n",
        "if result.success:\n",
        "    optimal_wheat = result.x[0]\n",
        "    optimal_barley = result.x[1]\n",
        "    optimal_profit = -result.fun\n",
        "    print(\"Optimal Solution:\")\n",
        "    print(f\"Wheat: {optimal_wheat:.2f} hectares\")\n",
        "    print(f\"Barley: {optimal_barley:.2f} hectares\")\n",
        "    print(f\"Maximum Profit: Rs. {optimal_profit:.2f}\")\n",
        "else:\n",
        "    print(\"Optimization failed:\", result.message)"
      ],
      "metadata": {
        "colab": {
          "base_uri": "https://localhost:8080/"
        },
        "id": "_pfsnyk-Qx5B",
        "outputId": "96b00d59-7c11-4e86-8192-242f1b38eb25"
      },
      "execution_count": 2,
      "outputs": [
        {
          "output_type": "stream",
          "name": "stdout",
          "text": [
            "Optimal Solution:\n",
            "Wheat: 97.89 hectares\n",
            "Barley: 7.37 hectares\n",
            "Maximum Profit: Rs. 5778.95\n"
          ]
        }
      ]
    }
  ]
}